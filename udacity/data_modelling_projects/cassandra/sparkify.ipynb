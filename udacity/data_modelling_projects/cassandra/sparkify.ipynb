{
 "cells": [
  {
   "cell_type": "markdown",
   "metadata": {
    "editable": true
   },
   "source": [
    "# Part I. ETL Pipeline for Pre-Processing the Files"
   ]
  },
  {
   "cell_type": "markdown",
   "metadata": {
    "editable": true
   },
   "source": [
    "#### Import Python packages "
   ]
  },
  {
   "cell_type": "code",
   "execution_count": 1,
   "metadata": {
    "editable": true
   },
   "outputs": [],
   "source": [
    "import pandas as pd\n",
    "import cassandra\n",
    "import re\n",
    "import os\n",
    "import glob\n",
    "import numpy as np\n",
    "import json\n",
    "import csv"
   ]
  },
  {
   "cell_type": "markdown",
   "metadata": {
    "editable": true
   },
   "source": [
    "#### Creating list of filepaths to process original event csv data files"
   ]
  },
  {
   "cell_type": "code",
   "execution_count": 2,
   "metadata": {
    "editable": true
   },
   "outputs": [
    {
     "name": "stdout",
     "output_type": "stream",
     "text": [
      "/home/workspace\n"
     ]
    }
   ],
   "source": [
    "print(os.getcwd())\n",
    "filepath = os.getcwd() + '/event_data'\n",
    "\n",
    "for root, dirs, files in os.walk(filepath):\n",
    "    file_path_list = glob.glob(os.path.join(root,'*'))"
   ]
  },
  {
   "cell_type": "markdown",
   "metadata": {
    "editable": true
   },
   "source": [
    "#### Processing the files to create the data file csv that will be used for Apache Casssandra tables"
   ]
  },
  {
   "cell_type": "code",
   "execution_count": 3,
   "metadata": {
    "editable": true
   },
   "outputs": [],
   "source": [
    "full_data_rows_list = []\n",
    "\n",
    "for f in file_path_list:\n",
    "    with open(f, 'r', encoding = 'utf8', newline='') as csvfile: \n",
    "        csvreader = csv.reader(csvfile) \n",
    "        next(csvreader)     \n",
    "        for line in csvreader:\n",
    "            full_data_rows_list.append(line)\n",
    "            \n",
    "# creating a smaller event data csv file called event_datafile_full csv that will be used to insert data into the \\\n",
    "# Apache Cassandra tables\n",
    "csv.register_dialect('myDialect', quoting=csv.QUOTE_ALL, skipinitialspace=True)\n",
    "\n",
    "with open('event_datafile_new.csv', 'w', encoding = 'utf8', newline='') as f:\n",
    "    writer = csv.writer(f, dialect='myDialect')\n",
    "    writer.writerow(['artist','firstName','gender','itemInSession','lastName','length',\\\n",
    "                'level','location','sessionId','song','userId'])\n",
    "    for row in full_data_rows_list:\n",
    "        if (row[0] == ''):\n",
    "            continue\n",
    "        writer.writerow((row[0], row[2], row[3], row[4], row[5], row[6], row[7], row[8], row[12], row[13], row[16]))"
   ]
  },
  {
   "cell_type": "code",
   "execution_count": 4,
   "metadata": {
    "editable": true
   },
   "outputs": [
    {
     "name": "stdout",
     "output_type": "stream",
     "text": [
      "6821\n"
     ]
    }
   ],
   "source": [
    "# check the number of rows in the csv file\n",
    "with open('event_datafile_new.csv', 'r', encoding = 'utf8') as f:\n",
    "    print(sum(1 for line in f))"
   ]
  },
  {
   "cell_type": "markdown",
   "metadata": {
    "editable": true
   },
   "source": [
    "# Part II. Creating tables and inserting data\n",
    "\n",
    "- artist \n",
    "- firstName of user\n",
    "- gender of user\n",
    "- item number in session\n",
    "- last name of user\n",
    "- length of the song\n",
    "- level (paid or free song)\n",
    "- location of the user\n",
    "- sessionId\n",
    "- song title\n",
    "- userId\n",
    "\n",
    "The image below is a screenshot of what the denormalized data should appear like in the <font color=red>**event_datafile_new.csv**</font> after the code above is run:<br>\n",
    "\n",
    "<img src=\"images/image_event_datafile_new.jpg\">"
   ]
  },
  {
   "cell_type": "markdown",
   "metadata": {
    "editable": true
   },
   "source": [
    "#### Creating a Cluster"
   ]
  },
  {
   "cell_type": "code",
   "execution_count": 5,
   "metadata": {
    "editable": true
   },
   "outputs": [],
   "source": [
    "from cassandra.cluster import Cluster\n",
    "cluster = Cluster()\n",
    "session = cluster.connect()"
   ]
  },
  {
   "cell_type": "markdown",
   "metadata": {
    "editable": true
   },
   "source": [
    "#### Create Keyspace"
   ]
  },
  {
   "cell_type": "code",
   "execution_count": 6,
   "metadata": {
    "editable": true
   },
   "outputs": [],
   "source": [
    "try:\n",
    "    session.execute(\"\"\"\n",
    "    CREATE KEYSPACE IF NOT EXISTS sparkify\n",
    "    WITH REPLICATION =\n",
    "    { 'class' : 'SimpleStrategy', 'replication_factor' : 1 }\"\"\"\n",
    "                    )\n",
    "except Exception as e:\n",
    "    print(e)"
   ]
  },
  {
   "cell_type": "markdown",
   "metadata": {
    "editable": true
   },
   "source": [
    "#### Set Keyspace"
   ]
  },
  {
   "cell_type": "code",
   "execution_count": 7,
   "metadata": {
    "editable": true
   },
   "outputs": [],
   "source": [
    "try:\n",
    "    session.set_keyspace('sparkify')\n",
    "except Exception as e:\n",
    "    print(e)"
   ]
  },
  {
   "cell_type": "markdown",
   "metadata": {
    "editable": true
   },
   "source": [
    "## Creating queries to ask the following three questions of the data\n",
    "\n",
    "### 1. Retrieve artist, song title and song's length in the music app history that was heard during  sessionId = 338, and itemInSession  = 4\n",
    "\n",
    "Here the Primary Key has two fields: item_in_session is the partition key, and session_id is the clustering key. Partitioning is done by item_in_session and within that partition, rows are ordered by the session_id."
   ]
  },
  {
   "cell_type": "code",
   "execution_count": 8,
   "metadata": {
    "editable": true
   },
   "outputs": [],
   "source": [
    "query = \"CREATE TABLE IF NOT EXISTS song_playlist_session\"\n",
    "query = query + \"(artist text, item_in_session int, \\\n",
    "length float, session_id int, song text, \\\n",
    "PRIMARY KEY (item_in_session, session_id))\"\n",
    "try:\n",
    "    session.execute(query)\n",
    "except Exception as e:\n",
    "    print(e)"
   ]
  },
  {
   "cell_type": "code",
   "execution_count": 9,
   "metadata": {
    "editable": true
   },
   "outputs": [],
   "source": [
    "file = 'event_datafile_new.csv'\n",
    "\n",
    "with open(file, encoding = 'utf8') as f:\n",
    "    csvreader = csv.reader(f)\n",
    "    next(csvreader)\n",
    "    for line in csvreader:\n",
    "        query = \"INSERT INTO song_playlist_session (artist, item_in_session, length, session_id, song)\"\n",
    "        query = query + \" VALUES (%s, %s, %s, %s, %s)\"\n",
    "        session.execute(query, (line[0], int(line[3]), float(line[5]), int(line[8]), line[9]))"
   ]
  },
  {
   "cell_type": "markdown",
   "metadata": {
    "editable": true
   },
   "source": [
    "#### Where item_in_session = 4 and session_id = 338, the artist is Faithless, the song is Music Matters (Mark Knight Dub), and its lenght is 495.307(about 8 minutes)."
   ]
  },
  {
   "cell_type": "code",
   "execution_count": 10,
   "metadata": {
    "editable": true,
    "scrolled": true
   },
   "outputs": [
    {
     "data": {
      "text/html": [
       "<style  type=\"text/css\" >\n",
       "</style>  \n",
       "<table id=\"T_6af5e18e_8346_11eb_a4ba_0242ac120002\" > \n",
       "<thead>    <tr> \n",
       "        <th class=\"col_heading level0 col0\" >artist</th> \n",
       "        <th class=\"col_heading level0 col1\" >song</th> \n",
       "        <th class=\"col_heading level0 col2\" >lenght</th> \n",
       "    </tr></thead> \n",
       "<tbody>    <tr> \n",
       "        <td id=\"T_6af5e18e_8346_11eb_a4ba_0242ac120002row0_col0\" class=\"data row0 col0\" >Faithless</td> \n",
       "        <td id=\"T_6af5e18e_8346_11eb_a4ba_0242ac120002row0_col1\" class=\"data row0 col1\" >Music Matters (Mark Knight Dub)</td> \n",
       "        <td id=\"T_6af5e18e_8346_11eb_a4ba_0242ac120002row0_col2\" class=\"data row0 col2\" >495.307</td> \n",
       "    </tr></tbody> \n",
       "</table> "
      ],
      "text/plain": [
       "<pandas.io.formats.style.Styler at 0x7f6e56987f28>"
      ]
     },
     "execution_count": 10,
     "metadata": {},
     "output_type": "execute_result"
    }
   ],
   "source": [
    "query = \"select artist, song, length from song_playlist_session where item_in_session = 4 AND session_id = 338\"\n",
    "try:\n",
    "    rows = session.execute(query)\n",
    "except Exception as e:\n",
    "    print(e)\n",
    "\n",
    "data = []\n",
    "for row in rows:\n",
    "    data.append([row.artist, row.song, row.length])\n",
    "\n",
    "df = pd.DataFrame(data, columns=['artist', 'song', 'lenght'])\n",
    "df.style.hide_index()"
   ]
  },
  {
   "cell_type": "markdown",
   "metadata": {
    "editable": true
   },
   "source": [
    "### 2. Retrieve only the following: name of artist, song (sorted by itemInSession) and user (first and last name) for userid = 10, sessionid = 182\n",
    "\n",
    "\n",
    "Here the Primary Key has three fields: (session_id, user_id) is the partition key, and item_in_session is the clustering key. Partitioning is done by session_id and user_id, and within that partition, rows are ordered by the item_in_session.\n"
   ]
  },
  {
   "cell_type": "code",
   "execution_count": 11,
   "metadata": {
    "editable": true
   },
   "outputs": [],
   "source": [
    "query = \"CREATE TABLE IF NOT EXISTS song_playlist_user_session\"\n",
    "query = query + \"(artist text, first_name text, item_in_session int, \\\n",
    "last_name text, session_id int, song text, user_id int, \\\n",
    "PRIMARY KEY ((session_id, user_id), item_in_session))\"\n",
    "try:\n",
    "    session.execute(query)\n",
    "except Exception as e:\n",
    "    print(e)"
   ]
  },
  {
   "cell_type": "code",
   "execution_count": 13,
   "metadata": {
    "editable": true
   },
   "outputs": [],
   "source": [
    "file = 'event_datafile_new.csv'\n",
    "\n",
    "with open(file, encoding = 'utf8') as f:\n",
    "    csvreader = csv.reader(f)\n",
    "    next(csvreader)\n",
    "    for line in csvreader:\n",
    "        query = \"INSERT INTO song_playlist_user_session (artist, first_name, item_in_session, last_name, \\\n",
    "         session_id, song, user_id)\"\n",
    "        query = query + \" VALUES (%s, %s, %s, %s, %s, %s, %s)\"\n",
    "        session.execute(query, (line[0], line[1], int(line[3]), line[4], int(line[8]), line[9], int(line[10])))"
   ]
  },
  {
   "cell_type": "markdown",
   "metadata": {
    "editable": true
   },
   "source": [
    "#### Where session_id = 182 and user_id = 10, four records are retrieved. The artist are Down To The Bone, Three Drives, Sebastien Tellier and Lonnie Gordon, in that order."
   ]
  },
  {
   "cell_type": "code",
   "execution_count": 14,
   "metadata": {
    "editable": true
   },
   "outputs": [
    {
     "data": {
      "text/html": [
       "<style  type=\"text/css\" >\n",
       "</style>  \n",
       "<table id=\"T_300aba6c_8347_11eb_a4ba_0242ac120002\" > \n",
       "<thead>    <tr> \n",
       "        <th class=\"col_heading level0 col0\" >artist</th> \n",
       "        <th class=\"col_heading level0 col1\" >song</th> \n",
       "        <th class=\"col_heading level0 col2\" >first_name</th> \n",
       "        <th class=\"col_heading level0 col3\" >last_name</th> \n",
       "    </tr></thead> \n",
       "<tbody>    <tr> \n",
       "        <td id=\"T_300aba6c_8347_11eb_a4ba_0242ac120002row0_col0\" class=\"data row0 col0\" >Down To The Bone</td> \n",
       "        <td id=\"T_300aba6c_8347_11eb_a4ba_0242ac120002row0_col1\" class=\"data row0 col1\" >Keep On Keepin' On</td> \n",
       "        <td id=\"T_300aba6c_8347_11eb_a4ba_0242ac120002row0_col2\" class=\"data row0 col2\" >Sylvie</td> \n",
       "        <td id=\"T_300aba6c_8347_11eb_a4ba_0242ac120002row0_col3\" class=\"data row0 col3\" >Cruz</td> \n",
       "    </tr>    <tr> \n",
       "        <td id=\"T_300aba6c_8347_11eb_a4ba_0242ac120002row1_col0\" class=\"data row1 col0\" >Three Drives</td> \n",
       "        <td id=\"T_300aba6c_8347_11eb_a4ba_0242ac120002row1_col1\" class=\"data row1 col1\" >Greece 2000</td> \n",
       "        <td id=\"T_300aba6c_8347_11eb_a4ba_0242ac120002row1_col2\" class=\"data row1 col2\" >Sylvie</td> \n",
       "        <td id=\"T_300aba6c_8347_11eb_a4ba_0242ac120002row1_col3\" class=\"data row1 col3\" >Cruz</td> \n",
       "    </tr>    <tr> \n",
       "        <td id=\"T_300aba6c_8347_11eb_a4ba_0242ac120002row2_col0\" class=\"data row2 col0\" >Sebastien Tellier</td> \n",
       "        <td id=\"T_300aba6c_8347_11eb_a4ba_0242ac120002row2_col1\" class=\"data row2 col1\" >Kilometer</td> \n",
       "        <td id=\"T_300aba6c_8347_11eb_a4ba_0242ac120002row2_col2\" class=\"data row2 col2\" >Sylvie</td> \n",
       "        <td id=\"T_300aba6c_8347_11eb_a4ba_0242ac120002row2_col3\" class=\"data row2 col3\" >Cruz</td> \n",
       "    </tr>    <tr> \n",
       "        <td id=\"T_300aba6c_8347_11eb_a4ba_0242ac120002row3_col0\" class=\"data row3 col0\" >Lonnie Gordon</td> \n",
       "        <td id=\"T_300aba6c_8347_11eb_a4ba_0242ac120002row3_col1\" class=\"data row3 col1\" >Catch You Baby (Steve Pitron & Max Sanna Radio Edit)</td> \n",
       "        <td id=\"T_300aba6c_8347_11eb_a4ba_0242ac120002row3_col2\" class=\"data row3 col2\" >Sylvie</td> \n",
       "        <td id=\"T_300aba6c_8347_11eb_a4ba_0242ac120002row3_col3\" class=\"data row3 col3\" >Cruz</td> \n",
       "    </tr></tbody> \n",
       "</table> "
      ],
      "text/plain": [
       "<pandas.io.formats.style.Styler at 0x7f6e1c8bd5c0>"
      ]
     },
     "execution_count": 14,
     "metadata": {},
     "output_type": "execute_result"
    }
   ],
   "source": [
    "query = \"select artist, song, first_name, last_name from song_playlist_user_session where session_id = 182 and user_id = 10\"\n",
    "try:\n",
    "    rows = session.execute(query)\n",
    "except Exception as e:\n",
    "    print(e)\n",
    "\n",
    "data = []\n",
    "for row in rows:\n",
    "    data.append([row.artist, row.song, row.first_name, row.last_name])\n",
    "\n",
    "df = pd.DataFrame(data, columns=['artist', 'song', 'first_name', 'last_name'])\n",
    "df.style.hide_index()"
   ]
  },
  {
   "cell_type": "markdown",
   "metadata": {
    "editable": true
   },
   "source": [
    "## 3. Retrieve every user name (first and last) in the music app history who listened to the song 'All Hands Against His Own'\n",
    "\n",
    "\n",
    "Here the Primary Key has two fields: song is the partition key, and user_id is the clustering key. Partitioning is done by song, and within that partition, rows are ordered by the user_id."
   ]
  },
  {
   "cell_type": "code",
   "execution_count": 15,
   "metadata": {
    "editable": true
   },
   "outputs": [],
   "source": [
    "query = \"CREATE TABLE IF NOT EXISTS song_playlist_user_name\"\n",
    "query = query + \"(first_name text, last_name text, song text, user_id int, \\\n",
    "PRIMARY KEY (song, user_id))\"\n",
    "try:\n",
    "    session.execute(query)\n",
    "except Exception as e:\n",
    "    print(e)"
   ]
  },
  {
   "cell_type": "code",
   "execution_count": 17,
   "metadata": {
    "editable": true
   },
   "outputs": [],
   "source": [
    "file = 'event_datafile_new.csv'\n",
    "\n",
    "with open(file, encoding = 'utf8') as f:\n",
    "    csvreader = csv.reader(f)\n",
    "    next(csvreader)\n",
    "    for line in csvreader:\n",
    "        query = \"INSERT INTO song_playlist_user_name (first_name, last_name, song, user_id)\"\n",
    "        query = query + \" VALUES (%s, %s, %s, %s)\"\n",
    "        session.execute(query, (line[1],line[4], line[9], int(line[10])))"
   ]
  },
  {
   "cell_type": "markdown",
   "metadata": {
    "editable": true
   },
   "source": [
    "#### Three rows are returned by the query where song = 'All Hands Against His Own'. Users names are: Jacqueline Lynch, Tegan Levine, Sara Johnson."
   ]
  },
  {
   "cell_type": "code",
   "execution_count": 18,
   "metadata": {
    "editable": true
   },
   "outputs": [
    {
     "data": {
      "text/html": [
       "<style  type=\"text/css\" >\n",
       "</style>  \n",
       "<table id=\"T_44cc5d8c_834e_11eb_a4ba_0242ac120002\" > \n",
       "<thead>    <tr> \n",
       "        <th class=\"col_heading level0 col0\" >first_name</th> \n",
       "        <th class=\"col_heading level0 col1\" >last_name</th> \n",
       "    </tr></thead> \n",
       "<tbody>    <tr> \n",
       "        <td id=\"T_44cc5d8c_834e_11eb_a4ba_0242ac120002row0_col0\" class=\"data row0 col0\" >Jacqueline</td> \n",
       "        <td id=\"T_44cc5d8c_834e_11eb_a4ba_0242ac120002row0_col1\" class=\"data row0 col1\" >Lynch</td> \n",
       "    </tr>    <tr> \n",
       "        <td id=\"T_44cc5d8c_834e_11eb_a4ba_0242ac120002row1_col0\" class=\"data row1 col0\" >Tegan</td> \n",
       "        <td id=\"T_44cc5d8c_834e_11eb_a4ba_0242ac120002row1_col1\" class=\"data row1 col1\" >Levine</td> \n",
       "    </tr>    <tr> \n",
       "        <td id=\"T_44cc5d8c_834e_11eb_a4ba_0242ac120002row2_col0\" class=\"data row2 col0\" >Sara</td> \n",
       "        <td id=\"T_44cc5d8c_834e_11eb_a4ba_0242ac120002row2_col1\" class=\"data row2 col1\" >Johnson</td> \n",
       "    </tr></tbody> \n",
       "</table> "
      ],
      "text/plain": [
       "<pandas.io.formats.style.Styler at 0x7f6e1c93ed68>"
      ]
     },
     "execution_count": 18,
     "metadata": {},
     "output_type": "execute_result"
    }
   ],
   "source": [
    "query = \"select first_name, last_name from song_playlist_user_name where song = 'All Hands Against His Own'\"\n",
    "try:\n",
    "    rows = session.execute(query)\n",
    "except Exception as e:\n",
    "    print(e)\n",
    "\n",
    "data = []\n",
    "for row in rows:\n",
    "    data.append([row.first_name, row.last_name])\n",
    "\n",
    "df = pd.DataFrame(data, columns=['first_name', 'last_name'])\n",
    "df.style.hide_index()"
   ]
  },
  {
   "cell_type": "markdown",
   "metadata": {
    "editable": true
   },
   "source": [
    "### Drop the tables before closing out the sessions"
   ]
  },
  {
   "cell_type": "code",
   "execution_count": 50,
   "metadata": {
    "editable": true
   },
   "outputs": [],
   "source": [
    "query = \"DROP TABLE IF EXISTS song_playlist_session\"\n",
    "try:\n",
    "    rows = session.execute(query)\n",
    "except Exception as e:\n",
    "    print(e)\n",
    "    \n",
    "query = \"DROP TABLE IF EXISTS song_playlist_user_session\"\n",
    "try:\n",
    "    rows = session.execute(query)\n",
    "except Exception as e:\n",
    "    print(e)\n",
    "\n",
    "query = \"DROP TABLE IF EXISTS song_playlist_user_name\"\n",
    "try:\n",
    "    rows = session.execute(query)\n",
    "except Exception as e:\n",
    "    print(e)"
   ]
  },
  {
   "cell_type": "markdown",
   "metadata": {
    "editable": true
   },
   "source": [
    "### Close the session and cluster connection¶"
   ]
  },
  {
   "cell_type": "code",
   "execution_count": 51,
   "metadata": {
    "editable": true
   },
   "outputs": [],
   "source": [
    "session.shutdown()\n",
    "cluster.shutdown()"
   ]
  }
 ],
 "metadata": {
  "kernelspec": {
   "display_name": "Python 3",
   "language": "python",
   "name": "python3"
  },
  "language_info": {
   "codemirror_mode": {
    "name": "ipython",
    "version": 3
   },
   "file_extension": ".py",
   "mimetype": "text/x-python",
   "name": "python",
   "nbconvert_exporter": "python",
   "pygments_lexer": "ipython3",
   "version": "3.6.3"
  }
 },
 "nbformat": 4,
 "nbformat_minor": 4
}
